{
 "cells": [
  {
   "cell_type": "code",
   "execution_count": 7,
   "metadata": {},
   "outputs": [],
   "source": [
    "from pydrive.auth import GoogleAuth\n",
    "from pydrive.drive import GoogleDrive\n",
    "\n",
    "class GoogleDriveClient:\n",
    "    def __init__(self, credentials_file=\"credentials.json\"):\n",
    "        # Authenticate with Google Drive\n",
    "        self.gauth = GoogleAuth()\n",
    "        self.gauth.LoadCredentialsFile(credentials_file)\n",
    "        if self.gauth.credentials is None:\n",
    "            self.gauth.LocalWebserverAuth()\n",
    "        elif self.gauth.access_token_expired:\n",
    "            self.gauth.Refresh()\n",
    "        else:\n",
    "            self.gauth.Authorize()\n",
    "        self.gauth.SaveCredentialsFile(credentials_file)\n",
    "\n",
    "        # Initialize GoogleDrive instance\n",
    "        self.drive = GoogleDrive(self.gauth)\n",
    "\n",
    "    def create_folder(self, folder_name, parent_id=None):\n",
    "        # Create a new folder in Google Drive\n",
    "        folder_metadata = {'title': folder_name, 'mimeType': 'application/vnd.google-apps.folder'}\n",
    "        if parent_id:\n",
    "            folder_metadata['parents'] = [{'id': parent_id}]\n",
    "        folder = self.drive.CreateFile(folder_metadata)\n",
    "        folder.Upload()\n",
    "        print(f\"Folder '{folder_name}' created successfully in Google Drive\")\n",
    "        return folder['id']\n",
    "\n",
    "    def upload_file(self, file_path, parent_id=None):\n",
    "        # Upload file to Google Drive\n",
    "        file = self.drive.CreateFile({'title': file_path.split('/')[-1]})\n",
    "        if parent_id:\n",
    "            file['parents'] = [{'id': parent_id}]\n",
    "        file.SetContentFile(file_path)\n",
    "        file.Upload()\n",
    "        print(f\"File '{file_path}' uploaded successfully to Google Drive\")\n"
   ]
  },
  {
   "cell_type": "code",
   "execution_count": 8,
   "metadata": {},
   "outputs": [
    {
     "name": "stderr",
     "output_type": "stream",
     "text": [
      "/home/vineeth/miniconda3/envs/se/lib/python3.9/site-packages/oauth2client/_helpers.py:255: UserWarning: Cannot access credentials.json: No such file or directory\n",
      "  warnings.warn(_MISSING_FILE_MESSAGE.format(filename))\n"
     ]
    },
    {
     "name": "stdout",
     "output_type": "stream",
     "text": [
      "Your browser has been opened to visit:\n",
      "\n",
      "    https://accounts.google.com/o/oauth2/auth?client_id=386693687608-guaotigkidk6fpgq634f60jcl3940tra.apps.googleusercontent.com&redirect_uri=http%3A%2F%2Flocalhost%3A8080%2F&scope=https%3A%2F%2Fwww.googleapis.com%2Fauth%2Fdrive&access_type=offline&response_type=code\n",
      "\n",
      "Authentication successful.\n",
      "Folder 'My New Folder' created successfully in Google Drive\n"
     ]
    },
    {
     "ename": "FileNotFoundError",
     "evalue": "[Errno 2] No such file or directory: '/path/to/your/file.txt'",
     "output_type": "error",
     "traceback": [
      "\u001b[0;31m---------------------------------------------------------------------------\u001b[0m",
      "\u001b[0;31mFileNotFoundError\u001b[0m                         Traceback (most recent call last)",
      "Cell \u001b[0;32mIn[8], line 7\u001b[0m\n\u001b[1;32m      4\u001b[0m folder_id \u001b[38;5;241m=\u001b[39m client\u001b[38;5;241m.\u001b[39mcreate_folder(\u001b[38;5;124m\"\u001b[39m\u001b[38;5;124mMy New Folder\u001b[39m\u001b[38;5;124m\"\u001b[39m)\n\u001b[1;32m      6\u001b[0m \u001b[38;5;66;03m# Upload a file to the newly created folder\u001b[39;00m\n\u001b[0;32m----> 7\u001b[0m \u001b[43mclient\u001b[49m\u001b[38;5;241;43m.\u001b[39;49m\u001b[43mupload_file\u001b[49m\u001b[43m(\u001b[49m\u001b[38;5;124;43m\"\u001b[39;49m\u001b[38;5;124;43m/path/to/your/file.txt\u001b[39;49m\u001b[38;5;124;43m\"\u001b[39;49m\u001b[43m,\u001b[49m\u001b[43m \u001b[49m\u001b[43mparent_id\u001b[49m\u001b[38;5;241;43m=\u001b[39;49m\u001b[43mfolder_id\u001b[49m\u001b[43m)\u001b[49m\n",
      "Cell \u001b[0;32mIn[7], line 35\u001b[0m, in \u001b[0;36mGoogleDriveClient.upload_file\u001b[0;34m(self, file_path, parent_id)\u001b[0m\n\u001b[1;32m     33\u001b[0m \u001b[38;5;28;01mif\u001b[39;00m parent_id:\n\u001b[1;32m     34\u001b[0m     file[\u001b[38;5;124m'\u001b[39m\u001b[38;5;124mparents\u001b[39m\u001b[38;5;124m'\u001b[39m] \u001b[38;5;241m=\u001b[39m [{\u001b[38;5;124m'\u001b[39m\u001b[38;5;124mid\u001b[39m\u001b[38;5;124m'\u001b[39m: parent_id}]\n\u001b[0;32m---> 35\u001b[0m \u001b[43mfile\u001b[49m\u001b[38;5;241;43m.\u001b[39;49m\u001b[43mSetContentFile\u001b[49m\u001b[43m(\u001b[49m\u001b[43mfile_path\u001b[49m\u001b[43m)\u001b[49m\n\u001b[1;32m     36\u001b[0m file\u001b[38;5;241m.\u001b[39mUpload()\n\u001b[1;32m     37\u001b[0m \u001b[38;5;28mprint\u001b[39m(\u001b[38;5;124mf\u001b[39m\u001b[38;5;124m\"\u001b[39m\u001b[38;5;124mFile \u001b[39m\u001b[38;5;124m'\u001b[39m\u001b[38;5;132;01m{\u001b[39;00mfile_path\u001b[38;5;132;01m}\u001b[39;00m\u001b[38;5;124m'\u001b[39m\u001b[38;5;124m uploaded successfully to Google Drive\u001b[39m\u001b[38;5;124m\"\u001b[39m)\n",
      "File \u001b[0;32m~/miniconda3/envs/se/lib/python3.9/site-packages/pydrive/files.py:169\u001b[0m, in \u001b[0;36mGoogleDriveFile.SetContentFile\u001b[0;34m(self, filename)\u001b[0m\n\u001b[1;32m    159\u001b[0m \u001b[38;5;28;01mdef\u001b[39;00m \u001b[38;5;21mSetContentFile\u001b[39m(\u001b[38;5;28mself\u001b[39m, filename):\n\u001b[1;32m    160\u001b[0m \u001b[38;5;250m  \u001b[39m\u001b[38;5;124;03m\"\"\"Set content of this file from a file.\u001b[39;00m\n\u001b[1;32m    161\u001b[0m \n\u001b[1;32m    162\u001b[0m \u001b[38;5;124;03m  Opens the file specified by this method.\u001b[39;00m\n\u001b[0;32m   (...)\u001b[0m\n\u001b[1;32m    167\u001b[0m \u001b[38;5;124;03m  :type filename: str.\u001b[39;00m\n\u001b[1;32m    168\u001b[0m \u001b[38;5;124;03m  \"\"\"\u001b[39;00m\n\u001b[0;32m--> 169\u001b[0m   \u001b[38;5;28mself\u001b[39m\u001b[38;5;241m.\u001b[39mcontent \u001b[38;5;241m=\u001b[39m \u001b[38;5;28;43mopen\u001b[39;49m\u001b[43m(\u001b[49m\u001b[43mfilename\u001b[49m\u001b[43m,\u001b[49m\u001b[43m \u001b[49m\u001b[38;5;124;43m'\u001b[39;49m\u001b[38;5;124;43mrb\u001b[39;49m\u001b[38;5;124;43m'\u001b[39;49m\u001b[43m)\u001b[49m\n\u001b[1;32m    170\u001b[0m   \u001b[38;5;28;01mif\u001b[39;00m \u001b[38;5;28mself\u001b[39m\u001b[38;5;241m.\u001b[39mget(\u001b[38;5;124m'\u001b[39m\u001b[38;5;124mtitle\u001b[39m\u001b[38;5;124m'\u001b[39m) \u001b[38;5;129;01mis\u001b[39;00m \u001b[38;5;28;01mNone\u001b[39;00m:\n\u001b[1;32m    171\u001b[0m     \u001b[38;5;28mself\u001b[39m[\u001b[38;5;124m'\u001b[39m\u001b[38;5;124mtitle\u001b[39m\u001b[38;5;124m'\u001b[39m] \u001b[38;5;241m=\u001b[39m filename\n",
      "\u001b[0;31mFileNotFoundError\u001b[0m: [Errno 2] No such file or directory: '/path/to/your/file.txt'"
     ]
    }
   ],
   "source": [
    "client = GoogleDriveClient()\n",
    "\n",
    "# Create a new folder in Google Drive\n",
    "folder_id = client.create_folder(\"My New Folder\")\n",
    "\n",
    "# Upload a file to the newly created folder\n",
    "client.upload_file(\"/path/to/your/file.txt\", parent_id=folder_id)"
   ]
  },
  {
   "cell_type": "code",
   "execution_count": null,
   "metadata": {},
   "outputs": [],
   "source": []
  }
 ],
 "metadata": {
  "kernelspec": {
   "display_name": "se",
   "language": "python",
   "name": "python3"
  },
  "language_info": {
   "codemirror_mode": {
    "name": "ipython",
    "version": 3
   },
   "file_extension": ".py",
   "mimetype": "text/x-python",
   "name": "python",
   "nbconvert_exporter": "python",
   "pygments_lexer": "ipython3",
   "version": "3.9.19"
  }
 },
 "nbformat": 4,
 "nbformat_minor": 2
}
